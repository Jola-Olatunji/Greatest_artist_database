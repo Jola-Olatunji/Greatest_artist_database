{
 "cells": [
  {
   "cell_type": "code",
   "execution_count": 1,
   "id": "8cfd4433",
   "metadata": {},
   "outputs": [],
   "source": [
    "import pandas\n",
    "import psycopg2"
   ]
  },
  {
   "cell_type": "code",
   "execution_count": 15,
   "id": "19358500",
   "metadata": {},
   "outputs": [],
   "source": [
    "    \n",
    "def database_creator(name):\n",
    "    # create  connection to the database\n",
    "    try:\n",
    "        conn = psycopg2.connect(\"host=localhost dbname=postgres user=postgres password=jddo3284\")\n",
    "    except psycopg2.Error as e:\n",
    "        print(\"Error: Could not make connection tothe postgres database\")\n",
    "        print(e)\n",
    "    #use the connection to createa cursor toexecute queries\n",
    "\n",
    "    try:\n",
    "        cur = conn.cursor()\n",
    "    except psycopg2.error as e:\n",
    "        print(\"Error: Could not get cursor to the database\")\n",
    "        print(e)\n",
    "\n",
    "    # set automatic commit\n",
    "    conn.set_session(autocommit=True)\n",
    "\n",
    "    # create database\n",
    "    try:\n",
    "        cur.execute(\"create database {}\".format(name))\n",
    "    except psycopg2.Error as e:\n",
    "        print(e)\n",
    "\n",
    "    #close connection to initial database\n",
    "    try:\n",
    "        conn.close()\n",
    "    except psycopg2.Error as e:\n",
    "        print(e)\n",
    "\n",
    "    #create a connection to the database\n",
    "    try:\n",
    "        conn = psycopg2.connect(\"host=localhost dbname=greatest_artist user=postgres password=jddo3284\")\n",
    "    except psycopg2.Error as e:\n",
    "        print (\"Error: could not create connection to the database\" )\n",
    "        print(e)\n",
    "\n",
    "    # create cursor\n",
    "    try:\n",
    "        cur = conn.cursor()\n",
    "    except psycopg2.Error as e:\n",
    "        print(\"Error: Could not get cursor to the database\")\n",
    "        print(e)\n",
    "\n",
    "    # set automatic commit\n",
    "    conn.set_session(autocommit = True)\n",
    "\n",
    "    return conn, cur\n"
   ]
  },
  {
   "cell_type": "code",
   "execution_count": 16,
   "id": "028e20a7",
   "metadata": {},
   "outputs": [
    {
     "name": "stdout",
     "output_type": "stream",
     "text": [
      "database \"test_creator_func_database\" already exists\n",
      "\n"
     ]
    }
   ],
   "source": [
    "conn,cur = database_creator(\"test_creator_func_database\")"
   ]
  },
  {
   "cell_type": "code",
   "execution_count": null,
   "id": "ec1382f7",
   "metadata": {},
   "outputs": [],
   "source": []
  }
 ],
 "metadata": {
  "kernelspec": {
   "display_name": "Python 3 (ipykernel)",
   "language": "python",
   "name": "python3"
  },
  "language_info": {
   "codemirror_mode": {
    "name": "ipython",
    "version": 3
   },
   "file_extension": ".py",
   "mimetype": "text/x-python",
   "name": "python",
   "nbconvert_exporter": "python",
   "pygments_lexer": "ipython3",
   "version": "3.8.13"
  }
 },
 "nbformat": 4,
 "nbformat_minor": 5
}
