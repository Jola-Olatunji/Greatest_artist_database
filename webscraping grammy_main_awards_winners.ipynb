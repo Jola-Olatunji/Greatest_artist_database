{
 "cells": [
  {
   "cell_type": "code",
   "execution_count": 260,
   "id": "e9abb3f2",
   "metadata": {},
   "outputs": [],
   "source": [
    "from bs4 import BeautifulSoup\n",
    "import requests\n",
    "import pandas as pd\n",
    "import re"
   ]
  },
  {
   "cell_type": "code",
   "execution_count": 261,
   "id": "21f32410",
   "metadata": {},
   "outputs": [],
   "source": [
    "url = 'https://www.britannica.com/art/Grammy-Award'\n",
    "response = requests.get(url)"
   ]
  },
  {
   "cell_type": "code",
   "execution_count": 262,
   "id": "b6eeac0e",
   "metadata": {},
   "outputs": [],
   "source": [
    "# save the HTML to file\n",
    "with open ('Grammy-Award.html', mode = 'wb') as file:\n",
    "    file.write(response.content)"
   ]
  },
  {
   "cell_type": "code",
   "execution_count": 263,
   "id": "e5d67708",
   "metadata": {},
   "outputs": [],
   "source": [
    "# work with html in memory\n",
    "soup = BeautifulSoup(response.content, 'html.parser')"
   ]
  },
  {
   "cell_type": "code",
   "execution_count": 264,
   "id": "a693d3de",
   "metadata": {},
   "outputs": [],
   "source": [
    "# variable definations\n",
    "table_dict = {'year':[], 'record of the year':[], 'song of the year':[], 'album of the year':[], 'best new artist': []}\n",
    "keys=['year', 'record of the year', 'song of the year', 'album of the year', 'best new artist']\n",
    "\n",
    "for a in range(len(soup.table.find_all('tr'))):\n",
    "    # narrow down on elements in each row of the table\n",
    "    tr = soup.table.find_all('tr')[a]\n",
    "    \n",
    "\n",
    "    for i in range(len(tr.find_all('td'))):\n",
    "        # narrow down on element in each column\n",
    "        content = tr.find_all('td')[i].text\n",
    "        \n",
    "        #append into the dictionary\n",
    "        table_dict[keys[i]].append(content)\n",
    "    \n",
    "   "
   ]
  },
  {
   "cell_type": "code",
   "execution_count": 265,
   "id": "bb7f91d3",
   "metadata": {},
   "outputs": [],
   "source": [
    "table_dict['year'] = table_dict['year'][3:]"
   ]
  },
  {
   "cell_type": "code",
   "execution_count": 266,
   "id": "31939d5d",
   "metadata": {},
   "outputs": [],
   "source": [
    "table_df = pd.DataFrame.from_dict(table_dict)"
   ]
  },
  {
   "cell_type": "code",
   "execution_count": 267,
   "id": "82033e9e",
   "metadata": {},
   "outputs": [
    {
     "data": {
      "text/plain": [
       "'\\nCrosby, Stills and Nash\\n'"
      ]
     },
     "execution_count": 267,
     "metadata": {},
     "output_type": "execute_result"
    }
   ],
   "source": [
    "table_df.iloc[11,-1]"
   ]
  },
  {
   "cell_type": "markdown",
   "id": "0ee5eee8",
   "metadata": {},
   "source": [
    "#### cleaning"
   ]
  },
  {
   "cell_type": "code",
   "execution_count": 268,
   "id": "fffad44d",
   "metadata": {},
   "outputs": [],
   "source": [
    "splitted_table_df = pd.DataFrame.from_dict(table_dict['year'])\n",
    "key = keys[1:]\n",
    "key_2 = ['artist_name record', 'artist_name song', 'artist_name album', 'artist_name best']\n",
    "for i in range(len(key)):\n",
    "    splitted_table_df[[key[i], key_2[i]]] = table_df[key[i]].str.rsplit(\",\",n= 1, expand = True)\n",
    "    "
   ]
  },
  {
   "cell_type": "code",
   "execution_count": 269,
   "id": "3bdc54f1",
   "metadata": {},
   "outputs": [
    {
     "name": "stdout",
     "output_type": "stream",
     "text": [
      "<class 'pandas.core.frame.DataFrame'>\n",
      "RangeIndex: 65 entries, 0 to 64\n",
      "Data columns (total 9 columns):\n",
      " #   Column              Non-Null Count  Dtype \n",
      "---  ------              --------------  ----- \n",
      " 0   0                   65 non-null     object\n",
      " 1   record of the year  65 non-null     object\n",
      " 2   artist_name record  65 non-null     object\n",
      " 3   song of the year    65 non-null     object\n",
      " 4   artist_name song    62 non-null     object\n",
      " 5   album of the year   65 non-null     object\n",
      " 6   artist_name album   65 non-null     object\n",
      " 7   best new artist     65 non-null     object\n",
      " 8   artist_name best    1 non-null      object\n",
      "dtypes: object(9)\n",
      "memory usage: 4.7+ KB\n"
     ]
    }
   ],
   "source": [
    "splitted_table_df.info()"
   ]
  },
  {
   "cell_type": "code",
   "execution_count": 270,
   "id": "c6a2b264",
   "metadata": {},
   "outputs": [
    {
     "data": {
      "text/html": [
       "<div>\n",
       "<style scoped>\n",
       "    .dataframe tbody tr th:only-of-type {\n",
       "        vertical-align: middle;\n",
       "    }\n",
       "\n",
       "    .dataframe tbody tr th {\n",
       "        vertical-align: top;\n",
       "    }\n",
       "\n",
       "    .dataframe thead th {\n",
       "        text-align: right;\n",
       "    }\n",
       "</style>\n",
       "<table border=\"1\" class=\"dataframe\">\n",
       "  <thead>\n",
       "    <tr style=\"text-align: right;\">\n",
       "      <th></th>\n",
       "      <th>0</th>\n",
       "      <th>record of the year</th>\n",
       "      <th>artist_name record</th>\n",
       "      <th>song of the year</th>\n",
       "      <th>artist_name song</th>\n",
       "      <th>album of the year</th>\n",
       "      <th>artist_name album</th>\n",
       "      <th>best new artist</th>\n",
       "      <th>artist_name best</th>\n",
       "    </tr>\n",
       "  </thead>\n",
       "  <tbody>\n",
       "    <tr>\n",
       "      <th>11</th>\n",
       "      <td>\\n        1969\\n</td>\n",
       "      <td>\\n        \"Aquarius/Let the Sunshine In</td>\n",
       "      <td>\" the 5th Dimension\\n</td>\n",
       "      <td>\\n        \"Games People Play</td>\n",
       "      <td>\" Joe South\\n</td>\n",
       "      <td>\\n        Blood, Sweat and Tears, Blood</td>\n",
       "      <td>Sweat and Tears\\n</td>\n",
       "      <td>\\nCrosby</td>\n",
       "      <td>Stills and Nash\\n</td>\n",
       "    </tr>\n",
       "  </tbody>\n",
       "</table>\n",
       "</div>"
      ],
      "text/plain": [
       "                         0                       record of the year  \\\n",
       "11  \\n        1969\\n        \\n        \"Aquarius/Let the Sunshine In   \n",
       "\n",
       "             artist_name record              song of the year  \\\n",
       "11  \" the 5th Dimension\\n        \\n        \"Games People Play   \n",
       "\n",
       "       artist_name song                        album of the year  \\\n",
       "11  \" Joe South\\n        \\n        Blood, Sweat and Tears, Blood   \n",
       "\n",
       "           artist_name album best new artist    artist_name best  \n",
       "11   Sweat and Tears\\n              \\nCrosby   Stills and Nash\\n  "
      ]
     },
     "execution_count": 270,
     "metadata": {},
     "output_type": "execute_result"
    }
   ],
   "source": [
    "splitted_table_df[splitted_table_df['artist_name best'].notnull()]"
   ]
  },
  {
   "cell_type": "code",
   "execution_count": 271,
   "id": "219c22e4",
   "metadata": {},
   "outputs": [],
   "source": [
    "splitted_table_df.rename(columns = {0:'year'}, inplace = True)\n",
    "splitted_table_df.drop('artist_name best', axis = 1, inplace = True)\n",
    "splitted_table_df.fillna(\"\", inplace = True)\n",
    "splitted_table_df.iloc[11,-1] = 'Crosby, Stills and Nash'"
   ]
  },
  {
   "cell_type": "code",
   "execution_count": 272,
   "id": "7536e24a",
   "metadata": {},
   "outputs": [],
   "source": [
    "column_name = splitted_table_df.columns.to_list()\n",
    "for i in column_name:\n",
    "    splitted_table_df[i] = splitted_table_df[i].apply(lambda x: re.sub(r'\"', '', x).strip())"
   ]
  },
  {
   "cell_type": "code",
   "execution_count": 273,
   "id": "19008b57",
   "metadata": {},
   "outputs": [],
   "source": [
    " splitted_table_df.columns = ['year',\n",
    " 'record of the year',\n",
    " 'artist_name record',\n",
    " 'song of the year',\n",
    " 'artist_name song',\n",
    " 'album of the year',\n",
    " 'artist_name album',\n",
    " 'artist_name best']\n"
   ]
  },
  {
   "cell_type": "markdown",
   "id": "90cd0ee2",
   "metadata": {},
   "source": [
    "#### Tidy data"
   ]
  },
  {
   "cell_type": "code",
   "execution_count": 288,
   "id": "0ab13a97",
   "metadata": {},
   "outputs": [],
   "source": [
    "# Prepare an empty title column for best_new_artist\n",
    "\n",
    "splitted_table_df['best new artist'] = ''\n",
    "variable_list = [ ['artist_name record', 'record of the year'],\n",
    "                  ['artist_name song', 'song of the year'],\n",
    "                  ['artist_name album', 'album of the year'],\n",
    "                  ['artist_name best', 'best new artist']\n",
    "                ]\n",
    "combined_long_table = pd.DataFrame()\n",
    "\n",
    "for i in range(len(variable_list)):\n",
    "    var = variable_list[i]\n",
    "    long = splitted_table_df.melt(id_vars= ['year', var[0]],\n",
    "                       value_vars = var[1], \n",
    "                       var_name = 'award', \n",
    "                       value_name ='title')\n",
    "    long.columns = ['year', 'artist', 'award', 'title']\n",
    "    combined_long_table = pd.concat([combined_long_table, long], ignore_index = True)\n",
    "    "
   ]
  }
 ],
 "metadata": {
  "kernelspec": {
   "display_name": "Python 3 (ipykernel)",
   "language": "python",
   "name": "python3"
  },
  "language_info": {
   "codemirror_mode": {
    "name": "ipython",
    "version": 3
   },
   "file_extension": ".py",
   "mimetype": "text/x-python",
   "name": "python",
   "nbconvert_exporter": "python",
   "pygments_lexer": "ipython3",
   "version": "3.8.13"
  }
 },
 "nbformat": 4,
 "nbformat_minor": 5
}
